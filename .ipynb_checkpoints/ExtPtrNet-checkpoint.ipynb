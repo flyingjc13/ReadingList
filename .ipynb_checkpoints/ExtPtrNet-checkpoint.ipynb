{
 "cells": [
  {
   "cell_type": "code",
   "execution_count": 1,
   "metadata": {},
   "outputs": [],
   "source": [
    "import numpy as np \n",
    "import random \n",
    "import torch \n",
    "import torch.nn as nn \n",
    "import torch.nn.functional as F \n",
    "from torch import optim \n",
    "from torch.autograd import Variable "
   ]
  },
  {
   "cell_type": "code",
   "execution_count": 2,
   "metadata": {},
   "outputs": [],
   "source": [
    "def to_var(x):\n",
    "\tif torch.cuda.is_available():\n",
    "\t\tx = x.cuda()\n",
    "\treturn Variable(x)"
   ]
  },
  {
   "cell_type": "code",
   "execution_count": 119,
   "metadata": {},
   "outputs": [],
   "source": [
    "# generate sequence with multiple greater subsequences\n",
    "def generate_single_seq_multiple(length=72, min_len=4, max_len=8, max_pointer=4):\n",
    "\t'''\n",
    "\tgenerates a sequence of numbers of random length\n",
    "\tand inserts a sub-seqeunce of greater numbers at random place\n",
    "\toutput:\n",
    "\tseqeunce of numbers, index of the start and end of the greater number subsequence\n",
    "\n",
    "\talternate: small, big, small, ...\n",
    "\t'''\n",
    "\tseq = []\n",
    "\tpos = []\n",
    "\tptr_num = random.randint(1, max_pointer)\n",
    "\tfor i in range(ptr_num):\t\n",
    "\t\ttemp_seq_small = [random.randint(1, 5) for x in range(random.randint(min_len, max_len))]\n",
    "\t\ttemp_seq_big = [random.randint(6, 10) for x in range(random.randint(min_len, max_len))]\n",
    "\t\tseq += temp_seq_small\n",
    "\t\tpos1 = len(seq)\n",
    "\t\tseq += temp_seq_big\n",
    "\t\tpos2 = len(seq) - 1\n",
    "\t\tpos.extend([pos1, pos2])\n",
    "\ttemp_seq_small = [random.randint(1, 5) for x in range(random.randint(min_len, max_len))]\n",
    "\tseq += temp_seq_small\n",
    "\n",
    "\t# pad to keep constant input seq length \n",
    "\tseq = seq + ([0] * (length - len(seq)))\n",
    "\treturn (seq, pos, ptr_num*2)\n",
    "\n",
    "def generate_set_seq_multiple(N):\n",
    "\t# generate a set of N sequences of fixed lengths\n",
    "\tdata = []    #(N, L)\n",
    "\tpos = []\t #(N, ptr*2)\n",
    "\tptr_nums = []  #(N)\n",
    "\tfor i in range(N):\n",
    "\t\tseq, seq_pos, seq_ptr = generate_single_seq_multiple()\n",
    "\t\tdata.append(seq)\n",
    "\t\tpos.append(seq_pos)\n",
    "\t\tptr_nums.append(seq_ptr)\n",
    "\treturn data, (pos, ptr_nums)"
   ]
  },
  {
   "cell_type": "code",
   "execution_count": 158,
   "metadata": {},
   "outputs": [],
   "source": [
    "class PointerNetwork(nn.Module):\n",
    "    def __init__(self, input_size, emb_size, weight_size, hidden_size=512, is_GRU=True):\n",
    "        super(PointerNetwork, self).__init__()\n",
    "\n",
    "        self.hidden_size = hidden_size \n",
    "        self.input_size = input_size \n",
    "        self.emb_size = emb_size \n",
    "        self.weight_size = weight_size \n",
    "        self.is_GRU = is_GRU\n",
    "\n",
    "        self.emb = nn.Embedding(input_size, emb_size)\n",
    "        if is_GRU:\n",
    "            self.enc = nn.GRU(emb_size, hidden_size, batch_first=True)\n",
    "            self.dec = nn.GRUCell(emb_size, hidden_size)\n",
    "        else:\n",
    "            self.enc = nn.LSTM(emb_size, hidden_size, batch_first=True)\n",
    "            self.dec = nn.LSTMCell(emb_size, hidden_size)\n",
    "\n",
    "        self.W1 = nn.Linear(hidden_size, weight_size, bias=False)\n",
    "        self.W2 = nn.Linear(hidden_size, weight_size, bias=False)\n",
    "        self.vt = nn.Linear(weight_size, 1, bias=False) \n",
    "        self.WL = nn.Linear(hidden_size, 1, bias=False)\n",
    "\n",
    "    # batch size has to be 1 because each sequence has a different decoder length\n",
    "    def forward(self, input):\n",
    "        batch_size = 1\n",
    "        input = self.emb(input) #(B, len, emb)\n",
    "\n",
    "        encoder_states, hc = self.enc(input) #encoder_states: (B, L, hid)  hc:(B, hid)\n",
    "        encoder_states = encoder_states.transpose(1, 0) #(L, B, hid)\n",
    "\n",
    "        pred_L = self.WL(hc).squeeze()  #(B)\n",
    "        answer_seq_len = round(pred_L.item())\n",
    "\n",
    "        decoder_input = to_var(torch.zeros(batch_size, self.emb_size))\n",
    "        hidden = to_var(torch.zeros([batch_size, self.hidden_size])) #(B, hid)\n",
    "        cell_state = encoder_states[-1] #(B, hid)\n",
    "\n",
    "        probs = []\n",
    "        # decoding\n",
    "        for i in range(answer_seq_len):\n",
    "            if self.is_GRU:\n",
    "                hidden = self.dec(decoder_input, hidden)\n",
    "            else:\n",
    "                hidden, cell_state = self.dec(decoder_input, (hidden, cell_state))\n",
    "\n",
    "            # compute blended representation at each decoder time step\n",
    "            blend1 = self.W1(encoder_states)    #(L, B, W)\n",
    "            blend2 = self.W2(hidden)    #(B, W)\n",
    "            # add blend2 to every step of encoder output (blend1)\n",
    "            blend_sum = F.tanh(blend1 + blend2) #(L, B, W)\n",
    "            out = self.vt(blend_sum).squeeze(2) # (L, B)\n",
    "            out = F.log_softmax(out.transpose(0, 1).contiguous(), -1) #(B, L)\n",
    "            probs.append(out)\n",
    "            # probs: (M, B, L) M: ans_seq_len\n",
    "\n",
    "        if answer_seq_len > 0:\n",
    "            probs = torch.stack(probs, dim=1)  #(B, M, L)\n",
    "\n",
    "        return probs, pred_L"
   ]
  },
  {
   "cell_type": "code",
   "execution_count": 162,
   "metadata": {},
   "outputs": [],
   "source": [
    "total_size = 10000\n",
    "weight_size = 256 \n",
    "emb_size = 32\n",
    "n_epochs = 3 \n",
    "\n",
    "data, (pos, ptr_nums) = generate_set_seq_multiple(total_size)\n",
    "targets = [np.array(p) for p in pos] # variable length\n",
    "dataset = np.array(data)  \n"
   ]
  },
  {
   "cell_type": "code",
   "execution_count": 163,
   "metadata": {},
   "outputs": [
    {
     "data": {
      "text/plain": [
       "(10000, 72)"
      ]
     },
     "execution_count": 163,
     "metadata": {},
     "output_type": "execute_result"
    }
   ],
   "source": [
    "dataset.shape"
   ]
  },
  {
   "cell_type": "code",
   "execution_count": 164,
   "metadata": {},
   "outputs": [
    {
     "data": {
      "text/plain": [
       "(6,)"
      ]
     },
     "execution_count": 164,
     "metadata": {},
     "output_type": "execute_result"
    }
   ],
   "source": [
    "targets[0].shape"
   ]
  },
  {
   "cell_type": "code",
   "execution_count": 165,
   "metadata": {},
   "outputs": [],
   "source": [
    "input_seq_len = dataset.shape[1]\n",
    "inp_size = 11  # 0 to 10\n",
    "\n",
    "# input = to_var(torch.LongTensor(dataset))  #(N, L)\n",
    "# targets = to_var(torch.LongTensor(targets))  #(N, vari)\n",
    "\n",
    "data_split = (int)(total_size*0.9)\n",
    "train_X = dataset[ : data_split]\n",
    "train_Y = targets[ : data_split]\n",
    "train_P = ptr_nums[ : data_split]\n",
    "test_X = dataset[data_split : ]\n",
    "test_Y = targets[data_split : ]\n",
    "test_P = ptr_nums[data_split : ]"
   ]
  },
  {
   "cell_type": "code",
   "execution_count": 159,
   "metadata": {},
   "outputs": [],
   "source": [
    "# def test(model, X, Y_pos, Y_ptr):\n",
    "#     correct_ptr = 0\n",
    "#     for i in range(X.shape[0]):\n",
    "#         x = to_var(torch.LongTensor([X[i]]))\n",
    "#         probs, pred_L = model(x)  #(B, M, L)\n",
    "#         if round(pred_L.item()) != Y_ptr[i]:\n",
    "#             print ('pred L:', pred_L.item(), 'ptr:', Y_ptr[i])\n",
    "#             break\n",
    "#         else:\n",
    "#             correct_ptr += 1\n",
    "#             _v, indices = torch.max(probs, 2)  #(B, M)\n",
    "#             print (indices[0])\n",
    "#             print (Y_pos[i])\n",
    "#             correct_count = sum([1 if torch.equal(ind.data, y.data) else 0 for ind, y in zip(indices[0], torch.LongTensor(Y_pos[i]))])\n",
    "#             print('Acc: {:.2f}% ({}/{})'.format(correct_count/Y_ptr[i]*100, correct_count, Y_ptr[i]))\n",
    "#             break\n"
   ]
  },
  {
   "cell_type": "code",
   "execution_count": 177,
   "metadata": {},
   "outputs": [],
   "source": [
    "def train(model, X, Y_pos, Y_ptr, batch_size, n_epochs, penalty=10.):\n",
    "    # TODO: add a validation (test_all) after each epoch\n",
    "    # TODO: record dev loss for plotting\n",
    "    model.train()\n",
    "    optimizer = optim.Adam(model.parameters())\n",
    "    N = X.shape[0]\n",
    "    L = X.shape[1]\n",
    "    Y_ptr_tensor = to_var(torch.FloatTensor(Y_ptr))\n",
    "    \n",
    "    mse = []\n",
    "    nll = []\n",
    "    \n",
    "    for epoch in range(n_epochs):\n",
    "        mse_epoch = []\n",
    "        nll_epoch = []\n",
    "        for i in range(N):\n",
    "            x = to_var(torch.LongTensor([X[i]])) #(B, L)\n",
    "            y = to_var(torch.LongTensor([Y_pos[i]]))  #(B, M)\n",
    "            \n",
    "#             print (x.shape)\n",
    "            probs, pred_L = model(x)  #(B, M, L)\n",
    "            \n",
    "            if round(pred_L.item()) != Y_ptr[i]:\n",
    "                loss = penalty*F.mse_loss(pred_L, Y_ptr_tensor[i])\n",
    "                mse.append(loss.item())\n",
    "                mse_epoch.append(loss.item())\n",
    "            else:\n",
    "#                 print (probs.shape)\n",
    "#                 print (y.shape)\n",
    "                outputs = probs.view(-1, L) #(B*M, L)\n",
    "                y = y.view(-1)  #(B*M)  \n",
    "                loss = F.nll_loss(outputs, y) \n",
    "                nll.append(loss.item())\n",
    "                nll_epoch.append(loss.item())\n",
    "\n",
    "            optimizer.zero_grad()\n",
    "            loss.backward()\n",
    "            optimizer.step()\n",
    "\n",
    "            if (i+1) % 200 == 0:\n",
    "                # prevent taking mean of empty list\n",
    "                if len(mse_epoch)==0:\n",
    "                    mse_epoch += [0]\n",
    "                if len(nll_epoch)==0:\n",
    "                    nll_epoch += [0]\n",
    "                print('epoch: {}, iteration: {}, MSE Loss: {:.5f}, NLL Loss: {:.5f}'.format(epoch, i+1, np.mean(mse_epoch), np.mean(nll_epoch))) \n",
    "#                 test(model, test_X, test_Y, test_P)\n",
    "                mse_epoch = []\n",
    "                nll_epoch = [] \n",
    "    return mse, nll  # for plotting"
   ]
  },
  {
   "cell_type": "code",
   "execution_count": 178,
   "metadata": {},
   "outputs": [],
   "source": [
    "model = PointerNetwork(inp_size, emb_size, weight_size)\n",
    "if torch.cuda.is_available():\n",
    "    model.cuda()\n"
   ]
  },
  {
   "cell_type": "code",
   "execution_count": 179,
   "metadata": {},
   "outputs": [
    {
     "name": "stderr",
     "output_type": "stream",
     "text": [
      "/Users/sichenglei/Desktop/kaggle/salt/venv/lib/python3.6/site-packages/torch/nn/functional.py:995: UserWarning: nn.functional.tanh is deprecated. Use torch.tanh instead.\n",
      "  warnings.warn(\"nn.functional.tanh is deprecated. Use torch.tanh instead.\")\n"
     ]
    },
    {
     "name": "stdout",
     "output_type": "stream",
     "text": [
      "epoch: 0, iteration: 200, MSE Loss: 68.87708, NLL Loss: 3.18891\n",
      "epoch: 0, iteration: 400, MSE Loss: 26.24595, NLL Loss: 2.09014\n",
      "epoch: 0, iteration: 600, MSE Loss: 11.08427, NLL Loss: 1.10313\n",
      "epoch: 0, iteration: 800, MSE Loss: 10.70066, NLL Loss: 0.66005\n",
      "epoch: 0, iteration: 1000, MSE Loss: 9.92830, NLL Loss: 0.50912\n",
      "epoch: 0, iteration: 1200, MSE Loss: 8.91652, NLL Loss: 0.31980\n",
      "epoch: 0, iteration: 1400, MSE Loss: 7.08546, NLL Loss: 0.25034\n",
      "epoch: 0, iteration: 1600, MSE Loss: 8.96588, NLL Loss: 0.28231\n",
      "epoch: 0, iteration: 1800, MSE Loss: 9.86675, NLL Loss: 0.19003\n",
      "epoch: 0, iteration: 2000, MSE Loss: 8.18629, NLL Loss: 0.16544\n",
      "epoch: 0, iteration: 2200, MSE Loss: 5.56123, NLL Loss: 0.19149\n",
      "epoch: 0, iteration: 2400, MSE Loss: 6.67377, NLL Loss: 0.16987\n",
      "epoch: 0, iteration: 2600, MSE Loss: 5.98496, NLL Loss: 0.12484\n",
      "epoch: 0, iteration: 2800, MSE Loss: 6.21015, NLL Loss: 0.08968\n",
      "epoch: 0, iteration: 3000, MSE Loss: 5.20512, NLL Loss: 0.10055\n",
      "epoch: 0, iteration: 3200, MSE Loss: 7.75393, NLL Loss: 0.08811\n",
      "epoch: 0, iteration: 3400, MSE Loss: 6.10925, NLL Loss: 0.04435\n",
      "epoch: 0, iteration: 3600, MSE Loss: 5.50347, NLL Loss: 0.05169\n",
      "epoch: 0, iteration: 3800, MSE Loss: 8.85007, NLL Loss: 0.18649\n",
      "epoch: 0, iteration: 4000, MSE Loss: 8.18927, NLL Loss: 0.18048\n",
      "epoch: 0, iteration: 4200, MSE Loss: 6.59632, NLL Loss: 0.07832\n",
      "epoch: 0, iteration: 4400, MSE Loss: 6.16580, NLL Loss: 0.04520\n",
      "epoch: 0, iteration: 4600, MSE Loss: 5.59000, NLL Loss: 0.04927\n",
      "epoch: 0, iteration: 4800, MSE Loss: 5.35934, NLL Loss: 0.03325\n",
      "epoch: 0, iteration: 5000, MSE Loss: 4.36063, NLL Loss: 0.03574\n",
      "epoch: 0, iteration: 5200, MSE Loss: 5.30095, NLL Loss: 0.02956\n",
      "epoch: 0, iteration: 5400, MSE Loss: 3.62403, NLL Loss: 0.02051\n",
      "epoch: 0, iteration: 5600, MSE Loss: 3.35492, NLL Loss: 0.02359\n",
      "epoch: 0, iteration: 5800, MSE Loss: 5.98105, NLL Loss: 0.02769\n",
      "epoch: 0, iteration: 6000, MSE Loss: 6.46352, NLL Loss: 0.08228\n",
      "epoch: 0, iteration: 6200, MSE Loss: 10.70070, NLL Loss: 0.34506\n",
      "epoch: 0, iteration: 6400, MSE Loss: 5.75257, NLL Loss: 0.14607\n",
      "epoch: 0, iteration: 6600, MSE Loss: 4.72873, NLL Loss: 0.13340\n",
      "epoch: 0, iteration: 6800, MSE Loss: 5.21961, NLL Loss: 0.09448\n",
      "epoch: 0, iteration: 7000, MSE Loss: 5.24754, NLL Loss: 0.05932\n",
      "epoch: 0, iteration: 7200, MSE Loss: 4.64312, NLL Loss: 0.04464\n",
      "epoch: 0, iteration: 7400, MSE Loss: 4.05071, NLL Loss: 0.06001\n",
      "epoch: 0, iteration: 7600, MSE Loss: 3.96152, NLL Loss: 0.03500\n",
      "epoch: 0, iteration: 7800, MSE Loss: 5.12041, NLL Loss: 0.05866\n",
      "epoch: 0, iteration: 8000, MSE Loss: 5.05259, NLL Loss: 0.05041\n",
      "epoch: 0, iteration: 8200, MSE Loss: 4.36505, NLL Loss: 0.04218\n",
      "epoch: 0, iteration: 8400, MSE Loss: 3.90335, NLL Loss: 0.02953\n",
      "epoch: 0, iteration: 8600, MSE Loss: 3.28333, NLL Loss: 0.02632\n",
      "epoch: 0, iteration: 8800, MSE Loss: 4.90211, NLL Loss: 0.04923\n",
      "epoch: 0, iteration: 9000, MSE Loss: 6.34536, NLL Loss: 0.03820\n",
      "epoch: 1, iteration: 200, MSE Loss: 3.54074, NLL Loss: 0.03531\n",
      "epoch: 1, iteration: 400, MSE Loss: 3.06827, NLL Loss: 0.01027\n",
      "epoch: 1, iteration: 600, MSE Loss: 3.11817, NLL Loss: 0.00924\n",
      "epoch: 1, iteration: 800, MSE Loss: 0.00000, NLL Loss: 0.00455\n",
      "epoch: 1, iteration: 1000, MSE Loss: 0.00000, NLL Loss: 0.00414\n",
      "epoch: 1, iteration: 1200, MSE Loss: 0.00000, NLL Loss: 0.01186\n",
      "epoch: 1, iteration: 1400, MSE Loss: 0.00000, NLL Loss: 0.01662\n",
      "epoch: 1, iteration: 1600, MSE Loss: 0.00000, NLL Loss: 0.00765\n",
      "epoch: 1, iteration: 1800, MSE Loss: 0.00000, NLL Loss: 0.00606\n",
      "epoch: 1, iteration: 2000, MSE Loss: 0.00000, NLL Loss: 0.00579\n",
      "epoch: 1, iteration: 2200, MSE Loss: 6.00788, NLL Loss: 0.09859\n",
      "epoch: 1, iteration: 2400, MSE Loss: 8.17574, NLL Loss: 0.20379\n",
      "epoch: 1, iteration: 2600, MSE Loss: 3.57239, NLL Loss: 0.06523\n",
      "epoch: 1, iteration: 2800, MSE Loss: 3.67767, NLL Loss: 0.05736\n",
      "epoch: 1, iteration: 3000, MSE Loss: 0.00000, NLL Loss: 0.02811\n",
      "epoch: 1, iteration: 3200, MSE Loss: 3.80078, NLL Loss: 0.02272\n",
      "epoch: 1, iteration: 3400, MSE Loss: 0.00000, NLL Loss: 0.01764\n",
      "epoch: 1, iteration: 3600, MSE Loss: 0.00000, NLL Loss: 0.01824\n",
      "epoch: 1, iteration: 3800, MSE Loss: 0.00000, NLL Loss: 0.01205\n",
      "epoch: 1, iteration: 4000, MSE Loss: 0.00000, NLL Loss: 0.01091\n",
      "epoch: 1, iteration: 4200, MSE Loss: 0.00000, NLL Loss: 0.01192\n",
      "epoch: 1, iteration: 4400, MSE Loss: 0.00000, NLL Loss: 0.01365\n",
      "epoch: 1, iteration: 4600, MSE Loss: 0.00000, NLL Loss: 0.01103\n",
      "epoch: 1, iteration: 4800, MSE Loss: 0.00000, NLL Loss: 0.00818\n",
      "epoch: 1, iteration: 5000, MSE Loss: 0.00000, NLL Loss: 0.00841\n",
      "epoch: 1, iteration: 5200, MSE Loss: 0.00000, NLL Loss: 0.00738\n",
      "epoch: 1, iteration: 5400, MSE Loss: 0.00000, NLL Loss: 0.01550\n",
      "epoch: 1, iteration: 5600, MSE Loss: 0.00000, NLL Loss: 0.01138\n",
      "epoch: 1, iteration: 5800, MSE Loss: 0.00000, NLL Loss: 0.01198\n",
      "epoch: 1, iteration: 6000, MSE Loss: 0.00000, NLL Loss: 0.00849\n",
      "epoch: 1, iteration: 6200, MSE Loss: 0.00000, NLL Loss: 0.01254\n",
      "epoch: 1, iteration: 6400, MSE Loss: 0.00000, NLL Loss: 0.01694\n",
      "epoch: 1, iteration: 6600, MSE Loss: 0.00000, NLL Loss: 0.02930\n",
      "epoch: 1, iteration: 6800, MSE Loss: 0.00000, NLL Loss: 0.02462\n",
      "epoch: 1, iteration: 7000, MSE Loss: 0.00000, NLL Loss: 0.03021\n",
      "epoch: 1, iteration: 7200, MSE Loss: 0.00000, NLL Loss: 0.06369\n",
      "epoch: 1, iteration: 7400, MSE Loss: 0.00000, NLL Loss: 0.04966\n",
      "epoch: 1, iteration: 7600, MSE Loss: 0.00000, NLL Loss: 0.01635\n",
      "epoch: 1, iteration: 7800, MSE Loss: 0.00000, NLL Loss: 0.01023\n",
      "epoch: 1, iteration: 8000, MSE Loss: 12.78111, NLL Loss: 0.29523\n",
      "epoch: 1, iteration: 8200, MSE Loss: 8.47579, NLL Loss: 0.14371\n",
      "epoch: 1, iteration: 8400, MSE Loss: 3.49708, NLL Loss: 0.09097\n",
      "epoch: 1, iteration: 8600, MSE Loss: 3.63332, NLL Loss: 0.05996\n",
      "epoch: 1, iteration: 8800, MSE Loss: 2.51089, NLL Loss: 0.06929\n",
      "epoch: 1, iteration: 9000, MSE Loss: 0.00000, NLL Loss: 0.04155\n",
      "epoch: 2, iteration: 200, MSE Loss: 0.00000, NLL Loss: 0.04027\n",
      "epoch: 2, iteration: 400, MSE Loss: 0.00000, NLL Loss: 0.03770\n",
      "epoch: 2, iteration: 600, MSE Loss: 0.00000, NLL Loss: 0.04227\n",
      "epoch: 2, iteration: 800, MSE Loss: 0.00000, NLL Loss: 0.02800\n",
      "epoch: 2, iteration: 1000, MSE Loss: 0.00000, NLL Loss: 0.03397\n",
      "epoch: 2, iteration: 1200, MSE Loss: 0.00000, NLL Loss: 0.02803\n",
      "epoch: 2, iteration: 1400, MSE Loss: 0.00000, NLL Loss: 0.02881\n",
      "epoch: 2, iteration: 1600, MSE Loss: 0.00000, NLL Loss: 0.03353\n",
      "epoch: 2, iteration: 1800, MSE Loss: 0.00000, NLL Loss: 0.02010\n",
      "epoch: 2, iteration: 2000, MSE Loss: 0.00000, NLL Loss: 0.02534\n",
      "epoch: 2, iteration: 2200, MSE Loss: 0.00000, NLL Loss: 0.01965\n",
      "epoch: 2, iteration: 2400, MSE Loss: 0.00000, NLL Loss: 0.03326\n",
      "epoch: 2, iteration: 2600, MSE Loss: 0.00000, NLL Loss: 0.03124\n",
      "epoch: 2, iteration: 2800, MSE Loss: 9.37108, NLL Loss: 0.02520\n",
      "epoch: 2, iteration: 3000, MSE Loss: 9.95330, NLL Loss: 0.20556\n",
      "epoch: 2, iteration: 3200, MSE Loss: 2.82220, NLL Loss: 0.06300\n",
      "epoch: 2, iteration: 3400, MSE Loss: 0.00000, NLL Loss: 0.03476\n",
      "epoch: 2, iteration: 3600, MSE Loss: 0.00000, NLL Loss: 0.02622\n",
      "epoch: 2, iteration: 3800, MSE Loss: 0.00000, NLL Loss: 0.04955\n",
      "epoch: 2, iteration: 4000, MSE Loss: 0.00000, NLL Loss: 0.01863\n",
      "epoch: 2, iteration: 4200, MSE Loss: 3.15360, NLL Loss: 0.01651\n",
      "epoch: 2, iteration: 4400, MSE Loss: 0.00000, NLL Loss: 0.01216\n",
      "epoch: 2, iteration: 4600, MSE Loss: 0.00000, NLL Loss: 0.01252\n",
      "epoch: 2, iteration: 4800, MSE Loss: 0.00000, NLL Loss: 0.01139\n",
      "epoch: 2, iteration: 5000, MSE Loss: 0.00000, NLL Loss: 0.01973\n",
      "epoch: 2, iteration: 5200, MSE Loss: 0.00000, NLL Loss: 0.01488\n",
      "epoch: 2, iteration: 5400, MSE Loss: 0.00000, NLL Loss: 0.01502\n",
      "epoch: 2, iteration: 5600, MSE Loss: 0.00000, NLL Loss: 0.01191\n",
      "epoch: 2, iteration: 5800, MSE Loss: 0.00000, NLL Loss: 0.01637\n",
      "epoch: 2, iteration: 6000, MSE Loss: 0.00000, NLL Loss: 0.01895\n",
      "epoch: 2, iteration: 6200, MSE Loss: 0.00000, NLL Loss: 0.02171\n",
      "epoch: 2, iteration: 6400, MSE Loss: 0.00000, NLL Loss: 0.01719\n",
      "epoch: 2, iteration: 6600, MSE Loss: 0.00000, NLL Loss: 0.02101\n",
      "epoch: 2, iteration: 6800, MSE Loss: 0.00000, NLL Loss: 0.02342\n",
      "epoch: 2, iteration: 7000, MSE Loss: 0.00000, NLL Loss: 0.01800\n",
      "epoch: 2, iteration: 7200, MSE Loss: 0.00000, NLL Loss: 0.00906\n",
      "epoch: 2, iteration: 7400, MSE Loss: 0.00000, NLL Loss: 0.01159\n",
      "epoch: 2, iteration: 7600, MSE Loss: 13.70916, NLL Loss: 0.24189\n",
      "epoch: 2, iteration: 7800, MSE Loss: 11.62228, NLL Loss: 0.29121\n"
     ]
    },
    {
     "name": "stdout",
     "output_type": "stream",
     "text": [
      "epoch: 2, iteration: 8000, MSE Loss: 5.41073, NLL Loss: 0.22530\n",
      "epoch: 2, iteration: 8200, MSE Loss: 0.00000, NLL Loss: 0.14958\n",
      "epoch: 2, iteration: 8400, MSE Loss: 2.96281, NLL Loss: 0.09147\n",
      "epoch: 2, iteration: 8600, MSE Loss: 0.00000, NLL Loss: 0.06114\n",
      "epoch: 2, iteration: 8800, MSE Loss: 0.00000, NLL Loss: 0.06605\n",
      "epoch: 2, iteration: 9000, MSE Loss: 0.00000, NLL Loss: 0.03969\n"
     ]
    }
   ],
   "source": [
    "mse, nll = train(model, train_X, train_Y, train_P, 1, n_epochs)\n",
    "\n",
    "# seems like it converges with one epoch"
   ]
  },
  {
   "cell_type": "code",
   "execution_count": 180,
   "metadata": {},
   "outputs": [],
   "source": [
    "def test_all(model, X, Y_pos, Y_ptr):\n",
    "    correct_ptr = 0\n",
    "    all_correct = 0\n",
    "    all_count = 0\n",
    "    for i in range(X.shape[0]):\n",
    "        x = to_var(torch.LongTensor([X[i]]))\n",
    "        probs, pred_L = model(x)  #(B, M, L)\n",
    "        if round(pred_L.item()) != Y_ptr[i]:\n",
    "#             print ('pred L:', pred_L.item(), 'ptr:', Y_ptr[i])\n",
    "            pass\n",
    "        else:\n",
    "            correct_ptr += 1\n",
    "            _v, indices = torch.max(probs, 2)  #(B, M)\n",
    "            correct_count = sum([1 if torch.equal(ind.data, y.data) else 0 for ind, y in zip(indices[0], torch.LongTensor(Y_pos[i]))])\n",
    "#             print('Acc: {:.2f}% ({}/{})'.format(correct_count/Y_ptr[i]*100, correct_count, Y_ptr[i]))\n",
    "            all_correct += correct_count\n",
    "            all_count += Y_ptr[i]\n",
    "    print (\"ptr num correct rate: {:.2f}% ({}/{})\".format(correct_ptr/X.shape[0]*100, correct_ptr, X.shape[0]))\n",
    "    print (\"position correct rate: {:.2f}% ({}/{})\".format(all_correct/all_count*100, all_correct, all_count))\n",
    "\n",
    "            "
   ]
  },
  {
   "cell_type": "code",
   "execution_count": 181,
   "metadata": {},
   "outputs": [
    {
     "name": "stderr",
     "output_type": "stream",
     "text": [
      "/Users/sichenglei/Desktop/kaggle/salt/venv/lib/python3.6/site-packages/torch/nn/functional.py:995: UserWarning: nn.functional.tanh is deprecated. Use torch.tanh instead.\n",
      "  warnings.warn(\"nn.functional.tanh is deprecated. Use torch.tanh instead.\")\n"
     ]
    },
    {
     "name": "stdout",
     "output_type": "stream",
     "text": [
      "ptr num correct rate: 99.90% (999/1000)\n",
      "position correct rate: 99.64% (4966/4984)\n"
     ]
    }
   ],
   "source": [
    "test_all(model, test_X, test_Y, test_P)"
   ]
  },
  {
   "cell_type": "code",
   "execution_count": 182,
   "metadata": {},
   "outputs": [],
   "source": [
    "import matplotlib.pyplot as plt\n",
    "%matplotlib inline\n"
   ]
  },
  {
   "cell_type": "code",
   "execution_count": 185,
   "metadata": {},
   "outputs": [
    {
     "data": {
      "text/plain": [
       "Text(0, 0.5, 'Loss')"
      ]
     },
     "execution_count": 185,
     "metadata": {},
     "output_type": "execute_result"
    },
    {
     "data": {
      "image/png": "[encoded data removed]",
      "text/plain": [
       "<Figure size 432x288 with 1 Axes>"
      ]
     },
     "metadata": {},
     "output_type": "display_data"
    }
   ],
   "source": [
    "plt.plot(range(len(mse)), mse)\n",
    "plt.title(\"Mean Square Loss\")\n",
    "plt.xlabel(\"Iteration\")\n",
    "plt.ylabel(\"Loss\")\n"
   ]
  },
  {
   "cell_type": "code",
   "execution_count": 186,
   "metadata": {},
   "outputs": [
    {
     "data": {
      "text/plain": [
       "Text(0, 0.5, 'Loss')"
      ]
     },
     "execution_count": 186,
     "metadata": {},
     "output_type": "execute_result"
    },
    {
     "data": {
      "image/png": "[encoded data removed]",
      "text/plain": [
       "<Figure size 432x288 with 1 Axes>"
      ]
     },
     "metadata": {},
     "output_type": "display_data"
    }
   ],
   "source": [
    "plt.plot(range(len(nll)), nll)\n",
    "plt.title(\"Neg Log Likelihood\")\n",
    "plt.xlabel(\"Iteration\")\n",
    "plt.ylabel(\"Loss\")"
   ]
  },
  {
   "cell_type": "code",
   "execution_count": 187,
   "metadata": {},
   "outputs": [],
   "source": [
    "torch.save(model.state_dict(), \"./ptrNet_trained\")\n",
    "## to load:\n",
    "# the_model.load_state_dict(torch.load(PATH))"
   ]
  },
  {
   "cell_type": "code",
   "execution_count": null,
   "metadata": {},
   "outputs": [],
   "source": []
  }
 ],
 "metadata": {
  "kernelspec": {
   "display_name": "Python 3",
   "language": "python",
   "name": "python3"
  },
  "language_info": {
   "codemirror_mode": {
    "name": "ipython",
    "version": 3
   },
   "file_extension": ".py",
   "mimetype": "text/x-python",
   "name": "python",
   "nbconvert_exporter": "python",
   "pygments_lexer": "ipython3",
   "version": "3.6.3"
  }
 },
 "nbformat": 4,
 "nbformat_minor": 2
}
